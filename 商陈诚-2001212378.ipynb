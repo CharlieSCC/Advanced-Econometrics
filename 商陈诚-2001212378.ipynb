{
 "cells": [
  {
   "cell_type": "code",
   "execution_count": 1,
   "id": "9bf0ac03",
   "metadata": {},
   "outputs": [],
   "source": [
    "import itertools\n",
    "import numpy as np\n",
    "import pandas as pd"
   ]
  },
  {
   "cell_type": "code",
   "execution_count": 3,
   "id": "20e55b0e",
   "metadata": {},
   "outputs": [],
   "source": [
    "IVdata = pd.read_stata(\"./data/IV.dta\")"
   ]
  },
  {
   "cell_type": "code",
   "execution_count": 4,
   "id": "ce8f000b",
   "metadata": {},
   "outputs": [],
   "source": [
    "independent = [\"Fintech\", \"Size\", \"LEV\", \"Growth\", \"CapEx\", \"PPE\", \"Indep\", \"GDP\", \"Population\"]\n",
    "IV = [\"FintechIV\", \"Size\", \"LEV\", \"Growth\", \"CapEx\", \"PPE\", \"Indep\", \"GDP\", \"Population\"]"
   ]
  },
  {
   "cell_type": "code",
   "execution_count": 5,
   "id": "0a5b789e",
   "metadata": {},
   "outputs": [],
   "source": [
    "year_industry = []\n",
    "for _ in itertools.product(IVdata.year.unique(), IVdata.industry.unique()):\n",
    "    year_industry.append(_)"
   ]
  },
  {
   "cell_type": "code",
   "execution_count": 6,
   "id": "bdf5b421",
   "metadata": {},
   "outputs": [],
   "source": [
    "year_industry_dummy = np.zeros((len(IVdata), len(year_industry)))\n",
    "year_ind_num = []\n",
    "for i in range(len(IVdata)):\n",
    "    year_ind = (IVdata.iloc[i].year, IVdata.iloc[i].industry)\n",
    "    for j in range(len(year_industry)):\n",
    "        if year_ind == year_industry[j]:\n",
    "            year_ind_num.append(j)\n",
    "            year_industry_dummy[i][j] = 1\n",
    "            break"
   ]
  },
  {
   "cell_type": "code",
   "execution_count": 7,
   "id": "acc03ba2",
   "metadata": {},
   "outputs": [],
   "source": [
    "IVdata[\"year_ind_num\"] = year_ind_num"
   ]
  },
  {
   "cell_type": "code",
   "execution_count": 8,
   "id": "f9957398",
   "metadata": {},
   "outputs": [],
   "source": [
    "X = np.hstack([IVdata.groupby(\"code\").apply(lambda x: x[independent]-x[independent].mean()).values, year_industry_dummy])"
   ]
  },
  {
   "cell_type": "code",
   "execution_count": 9,
   "id": "925dba23",
   "metadata": {},
   "outputs": [],
   "source": [
    "Z = np.hstack([IVdata.groupby(\"code\").apply(lambda x: x[IV]-x[IV].mean()).values, year_industry_dummy])"
   ]
  },
  {
   "cell_type": "code",
   "execution_count": 10,
   "id": "6f136ac0",
   "metadata": {},
   "outputs": [],
   "source": [
    "Y = IVdata.Patent.values"
   ]
  },
  {
   "cell_type": "code",
   "execution_count": 11,
   "id": "a9ef6b93",
   "metadata": {},
   "outputs": [],
   "source": [
    "X = np.matrix(X)\n",
    "Z = np.matrix(Z)\n",
    "Y = np.matrix(Y).T"
   ]
  },
  {
   "cell_type": "markdown",
   "id": "5d253ee3",
   "metadata": {},
   "source": [
    "#### Fixed_effect model (baseline)"
   ]
  },
  {
   "cell_type": "markdown",
   "id": "108beb56",
   "metadata": {},
   "source": [
    "stata code\n",
    "```\n",
    "xtset code year\n",
    "\n",
    "xtreg Patent Fintech Size LEV Growth CapEx PPE Indep GDP Population i.year#i.industry, fe vce(cluster city)\n",
    "```"
   ]
  },
  {
   "cell_type": "code",
   "execution_count": 12,
   "id": "4414ded4",
   "metadata": {},
   "outputs": [],
   "source": [
    "invXX = np.linalg.pinv(X.T.dot(X)) \n",
    "XY = X.T * Y\n",
    "bhat_ols = invXX * XY"
   ]
  },
  {
   "cell_type": "code",
   "execution_count": 13,
   "id": "318b2132",
   "metadata": {},
   "outputs": [
    {
     "name": "stderr",
     "output_type": "stream",
     "text": [
      "c:\\users\\56236\\appdata\\local\\programs\\python\\python37\\lib\\site-packages\\ipykernel_launcher.py:4: RuntimeWarning: invalid value encountered in sqrt\n",
      "  after removing the cwd from sys.path.\n"
     ]
    }
   ],
   "source": [
    "uhat = Y - X*bhat_ols\n",
    "uhats = np.multiply(X,uhat)\n",
    "bvar_ols = invXX * (uhats.T * uhats) * invXX\n",
    "bse_ols = np.sqrt(np.diag(bvar_ols))"
   ]
  },
  {
   "cell_type": "markdown",
   "id": "151ac9dc",
   "metadata": {},
   "source": [
    "#### Fix_effect model + IV"
   ]
  },
  {
   "cell_type": "markdown",
   "id": "334a409f",
   "metadata": {},
   "source": [
    "stata code\n",
    "\n",
    "```\n",
    "xtset code year\n",
    "\n",
    "xtreg Patent Fintech Size LEV Growth CapEx PPE Indep GDP Population i.year#i.industry, fe vce(cluster city)\n",
    "\n",
    "```"
   ]
  },
  {
   "cell_type": "code",
   "execution_count": 15,
   "id": "b2c92819",
   "metadata": {},
   "outputs": [],
   "source": [
    "invZX = np.linalg.pinv(Z.T.dot(X)) \n",
    "ZY = Z.T * Y\n",
    "bhat_ols = invZX * ZY"
   ]
  },
  {
   "cell_type": "code",
   "execution_count": 16,
   "id": "4501b8dc",
   "metadata": {},
   "outputs": [
    {
     "name": "stderr",
     "output_type": "stream",
     "text": [
      "c:\\users\\56236\\appdata\\local\\programs\\python\\python37\\lib\\site-packages\\ipykernel_launcher.py:4: RuntimeWarning: invalid value encountered in sqrt\n",
      "  after removing the cwd from sys.path.\n"
     ]
    }
   ],
   "source": [
    "uhat = Y - X*bhat_ols\n",
    "uhats = np.multiply(Z,uhat)\n",
    "bvar_ols = invZX * (uhats.T * uhats) * invZX\n",
    "bse_ols = np.sqrt(np.diag(bvar_ols))"
   ]
  },
  {
   "cell_type": "code",
   "execution_count": null,
   "id": "a9f3ef9c",
   "metadata": {},
   "outputs": [],
   "source": []
  }
 ],
 "metadata": {
  "kernelspec": {
   "display_name": "Python 3 (ipykernel)",
   "language": "python",
   "name": "python3"
  },
  "language_info": {
   "codemirror_mode": {
    "name": "ipython",
    "version": 3
   },
   "file_extension": ".py",
   "mimetype": "text/x-python",
   "name": "python",
   "nbconvert_exporter": "python",
   "pygments_lexer": "ipython3",
   "version": "3.7.9"
  }
 },
 "nbformat": 4,
 "nbformat_minor": 5
}
